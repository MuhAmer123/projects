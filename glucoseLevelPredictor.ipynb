{
 "cells": [
  {
   "cell_type": "code",
   "execution_count": 3,
   "id": "d9f31cb1-762c-40d1-a095-476a9defb695",
   "metadata": {},
   "outputs": [
    {
     "name": "stdout",
     "output_type": "stream",
     "text": [
      "         Date   Time  Code Value  Insulin\n",
      "0  04-21-1991   9:09          34       13\n",
      "1  04-21-1991  17:08          62      119\n",
      "2  04-21-1991  17:08          33        7\n",
      "3  04-21-1991  22:51          48      123\n",
      "4  04-22-1991   7:35          58      216\n"
     ]
    }
   ],
   "source": [
    "import pandas as pd\n",
    "\n",
    "# Load the dataset from Excel file\n",
    "diabetic_data = pd.read_excel(\"/Users/abdullahfiras/Desktop/data-01.xls.xls\")\n",
    "\n",
    "# Display the first few rows of the dataset\n",
    "print(diabetic_data.head())\n"
   ]
  },
  {
   "cell_type": "code",
   "execution_count": 6,
   "id": "cc488910-6294-4dbc-b7aa-afdf097036b5",
   "metadata": {},
   "outputs": [
    {
     "name": "stdout",
     "output_type": "stream",
     "text": [
      "Mean Squared Error: 1968.8485863095239\n"
     ]
    },
    {
     "name": "stderr",
     "output_type": "stream",
     "text": [
      "/opt/anaconda3/lib/python3.11/site-packages/sklearn/preprocessing/_encoders.py:868: FutureWarning: `sparse` was renamed to `sparse_output` in version 1.2 and will be removed in 1.4. `sparse_output` is ignored unless you leave `sparse` to its default value.\n",
      "  warnings.warn(\n"
     ]
    }
   ],
   "source": [
    "import pandas as pd\n",
    "from sklearn.model_selection import train_test_split\n",
    "from sklearn.preprocessing import OneHotEncoder\n",
    "from sklearn.linear_model import LinearRegression\n",
    "from sklearn.metrics import mean_squared_error\n",
    "\n",
    "# Load the dataset\n",
    "data_path = '/Users/abdullahfiras/Desktop/data-01.xls'  # Update this path to where your dataset is located\n",
    "data = pd.read_excel(data_path)\n",
    "\n",
    "# Preprocessing\n",
    "data['Datetime'] = pd.to_datetime(data['Date'] + ' ' + data['Time'])\n",
    "data.drop(['Date', 'Time'], axis=1, inplace=True)\n",
    "\n",
    "# Categorizing 'Code Value'\n",
    "code_mappings = {\n",
    "    'Insulin Dose': [33, 34, 35],\n",
    "    'Blood Glucose Measurement': [48, 57, 58, 59, 60, 61, 62, 63, 64],\n",
    "    'Meal Ingestion': [66, 67, 68],\n",
    "    'Exercise Activity': [69, 70, 71],\n",
    "    'Special Event': [72],\n",
    "    'Other': [65]\n",
    "}\n",
    "code_to_category = {code: category for category, codes in code_mappings.items() for code in codes}\n",
    "data['Activity Category'] = data['Code Value'].map(code_to_category)\n",
    "\n",
    "# Encoding 'Activity Category'\n",
    "encoder = OneHotEncoder(sparse=False)\n",
    "category_encoded = encoder.fit_transform(data[['Activity Category']])\n",
    "category_df = pd.DataFrame(category_encoded, columns=encoder.get_feature_names_out(['Activity Category']))\n",
    "data_preprocessed = pd.concat([data.drop(['Code Value', 'Activity Category'], axis=1), category_df], axis=1)\n",
    "\n",
    "# Feature selection\n",
    "X = data_preprocessed.drop(['Insulin', 'Datetime'], axis=1)  # Excluding 'Datetime' for simplicity\n",
    "y = data_preprocessed['Insulin']\n",
    "\n",
    "# Splitting the dataset\n",
    "X_train, X_test, y_train, y_test = train_test_split(X, y, test_size=0.2, random_state=42)\n",
    "\n",
    "# Model training\n",
    "model = LinearRegression()\n",
    "model.fit(X_train, y_train)\n",
    "\n",
    "# Predicting and evaluating\n",
    "y_pred = model.predict(X_test)\n",
    "mse = mean_squared_error(y_test, y_pred)\n",
    "\n",
    "print(f'Mean Squared Error: {mse}')"
   ]
  },
  {
   "cell_type": "code",
   "execution_count": null,
   "id": "c898f814-4c00-44b8-8205-88e62f026535",
   "metadata": {},
   "outputs": [],
   "source": []
  }
 ],
 "metadata": {
  "kernelspec": {
   "display_name": "Python 3 (ipykernel)",
   "language": "python",
   "name": "python3"
  },
  "language_info": {
   "codemirror_mode": {
    "name": "ipython",
    "version": 3
   },
   "file_extension": ".py",
   "mimetype": "text/x-python",
   "name": "python",
   "nbconvert_exporter": "python",
   "pygments_lexer": "ipython3",
   "version": "3.11.7"
  }
 },
 "nbformat": 4,
 "nbformat_minor": 5
}
